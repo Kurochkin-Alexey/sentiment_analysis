{
 "cells": [
  {
   "cell_type": "markdown",
   "metadata": {},
   "source": [
    "# Задача: определить настроение заданного текста(ов)"
   ]
  },
  {
   "cell_type": "markdown",
   "metadata": {},
   "source": [
    "## Обучение модели"
   ]
  },
  {
   "cell_type": "code",
   "execution_count": 2,
   "metadata": {},
   "outputs": [],
   "source": [
    "from tensorflow.keras.layers import SimpleRNN, LSTM, GRU, Bidirectional, Dense, Embedding \n",
    "from tensorflow.keras.preprocessing.sequence import pad_sequences\n",
    "from tensorflow.keras.datasets import imdb\n",
    "from tensorflow.keras.models import Sequential\n",
    "import numpy as np"
   ]
  },
  {
   "cell_type": "code",
   "execution_count": 3,
   "metadata": {},
   "outputs": [
    {
     "name": "stdout",
     "output_type": "stream",
     "text": [
      "[1, 14, 22, 16, 43, 530, 973, 1622, 1385, 65, 458, 4468, 66, 3941, 4, 173, 36, 256, 5, 25, 100, 43, 838, 112, 50, 670, 2, 9, 35, 480, 284, 5, 150, 4, 172, 112, 167, 2, 336, 385, 39, 4, 172, 4536, 1111, 17, 546, 38, 13, 447, 4, 192, 50, 16, 6, 147, 2025, 19, 14, 22, 4, 1920, 4613, 469, 4, 22, 71, 87, 12, 16, 43, 530, 38, 76, 15, 13, 1247, 4, 22, 17, 515, 17, 12, 16, 626, 18, 2, 5, 62, 386, 12, 8, 316, 8, 106, 5, 4, 2223, 2, 16, 480, 66, 3785, 33, 4, 130, 12, 16, 38, 619, 5, 25, 124, 51, 36, 135, 48, 25, 1415, 33, 6, 22, 12, 215, 28, 77, 52, 5, 14, 407, 16, 82, 2, 8, 4, 107, 117, 2, 15, 256, 4, 2, 7, 3766, 5, 723, 36, 71, 43, 530, 476, 26, 400, 317, 46, 7, 4, 2, 1029, 13, 104, 88, 4, 381, 15, 297, 98, 32, 2071, 56, 26, 141, 6, 194, 2, 18, 4, 226, 22, 21, 134, 476, 26, 480, 5, 144, 30, 2, 18, 51, 36, 28, 224, 92, 25, 104, 4, 226, 65, 16, 38, 1334, 88, 12, 16, 283, 5, 16, 4472, 113, 103, 32, 15, 16, 2, 19, 178, 32]\n"
     ]
    }
   ],
   "source": [
    "# Получение отзывов со словами, которые входят в число 5000 наиболее часто встречающихся слов во всем корпусе текстовых данных отзывов.\n",
    "vocab_size = 5000\n",
    "(x_train, y_train), (x_test, y_test) = imdb.load_data(num_words=vocab_size) \n",
    " \n",
    "print(x_train[0])"
   ]
  },
  {
   "cell_type": "code",
   "execution_count": 4,
   "metadata": {},
   "outputs": [
    {
     "name": "stdout",
     "output_type": "stream",
     "text": [
      "['the', 'as', 'you', 'with', 'out', 'themselves', 'powerful', 'lets', 'loves', 'their', 'becomes', 'reaching', 'had', 'journalist', 'of', 'lot', 'from', 'anyone', 'to', 'have', 'after', 'out', 'atmosphere', 'never', 'more', 'room', 'and', 'it', 'so', 'heart', 'shows', 'to', 'years', 'of', 'every', 'never', 'going', 'and', 'help', 'moments', 'or', 'of', 'every', 'chest', 'visual', 'movie', 'except', 'her', 'was', 'several', 'of', 'enough', 'more', 'with', 'is', 'now', 'current', 'film', 'as', 'you', 'of', 'mine', 'potentially', 'unfortunately', 'of', 'you', 'than', 'him', 'that', 'with', 'out', 'themselves', 'her', 'get', 'for', 'was', 'camp', 'of', 'you', 'movie', 'sometimes', 'movie', 'that', 'with', 'scary', 'but', 'and', 'to', 'story', 'wonderful', 'that', 'in', 'seeing', 'in', 'character', 'to', 'of', '70s', 'and', 'with', 'heart', 'had', 'shadows', 'they', 'of', 'here', 'that', 'with', 'her', 'serious', 'to', 'have', 'does', 'when', 'from', 'why', 'what', 'have', 'critics', 'they', 'is', 'you', 'that', \"isn't\", 'one', 'will', 'very', 'to', 'as', 'itself', 'with', 'other', 'and', 'in', 'of', 'seen', 'over', 'and', 'for', 'anyone', 'of', 'and', 'br', \"show's\", 'to', 'whether', 'from', 'than', 'out', 'themselves', 'history', 'he', 'name', 'half', 'some', 'br', 'of', 'and', 'odd', 'was', 'two', 'most', 'of', 'mean', 'for', '1', 'any', 'an', 'boat', 'she', 'he', 'should', 'is', 'thought', 'and', 'but', 'of', 'script', 'you', 'not', 'while', 'history', 'he', 'heart', 'to', 'real', 'at', 'and', 'but', 'when', 'from', 'one', 'bit', 'then', 'have', 'two', 'of', 'script', 'their', 'with', 'her', 'nobody', 'most', 'that', 'with', \"wasn't\", 'to', 'with', 'armed', 'acting', 'watch', 'an', 'for', 'with', 'and', 'film', 'want', 'an']\n"
     ]
    }
   ],
   "source": [
    "# Получаем все слова из словаря word_index\n",
    "word_idx = imdb.get_word_index()\n",
    "\n",
    "# Первоначально порядковый номер значения, а не ключа, поэтому индекс преобразуется в ключ, а слова в значения\n",
    "word_idx = {i: word for word, i in word_idx.items()}\n",
    "\n",
    "# Распечатываем ревью\n",
    "print([word_idx[i] for i in x_train[0]])"
   ]
  },
  {
   "cell_type": "code",
   "execution_count": 5,
   "metadata": {},
   "outputs": [
    {
     "name": "stdout",
     "output_type": "stream",
     "text": [
      "Max length of a review::  2697\n",
      "Min length of a review::  70\n"
     ]
    }
   ],
   "source": [
    "# Получаем минимальную и максимальную длину отзывов\n",
    "print(\"Max length of a review:: \", len(max((x_train+x_test), key=len)))\n",
    "print(\"Min length of a review:: \", len(min((x_train+x_test), key=len)))"
   ]
  },
  {
   "cell_type": "code",
   "execution_count": 6,
   "metadata": {},
   "outputs": [],
   "source": [
    "from tensorflow.keras.preprocessing import sequence\n",
    " \n",
    "# Сохранение фиксированной длины всех отзывов (максимум 400 слов).\n",
    "max_words = 400\n",
    " \n",
    "x_train = sequence.pad_sequences(x_train, maxlen=max_words)\n",
    "x_test = sequence.pad_sequences(x_test, maxlen=max_words)\n",
    " \n",
    "x_valid, y_valid = x_train[:64], y_train[:64]\n",
    "x_train_, y_train_ = x_train[64:], y_train[64:]"
   ]
  },
  {
   "cell_type": "code",
   "execution_count": 7,
   "metadata": {},
   "outputs": [
    {
     "name": "stdout",
     "output_type": "stream",
     "text": [
      "Model: \"LSTM_Model\"\n",
      "_________________________________________________________________\n",
      " Layer (type)                Output Shape              Param #   \n",
      "=================================================================\n",
      " embedding (Embedding)       (None, 400, 32)           160000    \n",
      "                                                                 \n",
      " lstm (LSTM)                 (None, 128)               82432     \n",
      "                                                                 \n",
      " dense (Dense)               (None, 1)                 129       \n",
      "                                                                 \n",
      "=================================================================\n",
      "Total params: 242561 (947.50 KB)\n",
      "Trainable params: 242561 (947.50 KB)\n",
      "Non-trainable params: 0 (0.00 Byte)\n",
      "_________________________________________________________________\n",
      "None\n",
      "Epoch 1/5\n",
      "390/390 - 186s - loss: 0.4929 - accuracy: 0.7529 - val_loss: 0.3086 - val_accuracy: 0.9062 - 186s/epoch - 477ms/step\n",
      "Epoch 2/5\n",
      "390/390 - 203s - loss: 0.3081 - accuracy: 0.8743 - val_loss: 0.2824 - val_accuracy: 0.8594 - 203s/epoch - 520ms/step\n",
      "Epoch 3/5\n",
      "390/390 - 204s - loss: 0.2466 - accuracy: 0.9027 - val_loss: 0.2150 - val_accuracy: 0.9531 - 204s/epoch - 522ms/step\n",
      "Epoch 4/5\n",
      "390/390 - 215s - loss: 0.2143 - accuracy: 0.9168 - val_loss: 0.2666 - val_accuracy: 0.9219 - 215s/epoch - 550ms/step\n",
      "Epoch 5/5\n",
      "390/390 - 217s - loss: 0.1868 - accuracy: 0.9286 - val_loss: 0.2640 - val_accuracy: 0.8906 - 217s/epoch - 557ms/step\n",
      "\n",
      "LSTM model Score--->  [0.3516916036605835, 0.8732399940490723]\n"
     ]
    }
   ],
   "source": [
    "embd_len = 32\n",
    "lstm_model = Sequential(name=\"LSTM_Model\")\n",
    "lstm_model.add(Embedding(vocab_size,\n",
    "                         embd_len,\n",
    "                         input_length=max_words))\n",
    "lstm_model.add(LSTM(128,\n",
    "                    activation='tanh',\n",
    "                    return_sequences=False))\n",
    "lstm_model.add(Dense(1, activation='sigmoid'))\n",
    " \n",
    "print(lstm_model.summary())\n",
    "\n",
    "lstm_model.compile(\n",
    "    loss=\"binary_crossentropy\",\n",
    "    optimizer='adam',\n",
    "    metrics=['accuracy']\n",
    ")\n",
    " \n",
    "history3 = lstm_model.fit(x_train_, y_train_,\n",
    "                          batch_size=64,\n",
    "                          epochs=5,\n",
    "                          verbose=2,\n",
    "                          validation_data=(x_valid, y_valid))\n",
    " \n",
    "print()\n",
    "print(\"LSTM model Score---> \", lstm_model.evaluate(x_test, y_test, verbose=0))"
   ]
  },
  {
   "cell_type": "code",
   "execution_count": 17,
   "metadata": {},
   "outputs": [],
   "source": [
    "# Сохранение модели в файл\n",
    "lstm_model.save(\"my_model.keras\")"
   ]
  },
  {
   "cell_type": "markdown",
   "metadata": {},
   "source": [
    "## Тестирование работы модели на кокретных текстах"
   ]
  },
  {
   "cell_type": "markdown",
   "metadata": {},
   "source": [
    "### Подготовка данных"
   ]
  },
  {
   "cell_type": "code",
   "execution_count": 34,
   "metadata": {},
   "outputs": [],
   "source": [
    "from keras.models import load_model\n",
    "\n",
    "# Загрузка модели из файла\n",
    "model = load_model(\"my_model.keras\")"
   ]
  },
  {
   "cell_type": "code",
   "execution_count": 55,
   "metadata": {},
   "outputs": [],
   "source": [
    "with open('text.txt', 'r', encoding='utf-8') as file:\n",
    "    text = file.read()"
   ]
  },
  {
   "cell_type": "code",
   "execution_count": 56,
   "metadata": {},
   "outputs": [
    {
     "name": "stdout",
     "output_type": "stream",
     "text": [
      "but we were expecting something completely different...\n",
      "using the example of “madagascar” and “how to train your dragon,” we saw that the dreamworks studio had the courage to stop in time, which is why, perhaps, no one expected a continuation of poe’s story. however, here it is in 2024, and the fourth part of “kung fu panda” is coming out, which must correspond, because it will not be able to avoid comparison with the previous ones. the first one is still the strongest for me, but the sequels at one time were able to maintain a sufficient level of quality to preserve warm feelings for the characters, to capture this fabulous, but so living world of martial arts. was the release of the fourth part justified? - of course, the audience managed to miss their favorite characters, eight whole years have passed. but was she able to live up to these expectations? did the studio treat its own franchise with the same awe that the audience had? - good question...\n",
      "plot. dragon warrior is just a title passed from one fighter to another. therefore, master shifu persistently convinces po to entrust the responsibility of protecting the valley to a worthy successor, while taking the role of a spiritual mentor. however, the changes frighten the panda, which is why he delays this moment, setting off on his “last” task: to eliminate the evil sorceress chameleon (they didn’t even come up with a name), capable of turning into anyone, who harbored a grudge against the whole world and wanted to subjugate it . the fox-thief zhen, who all her life before meeting po, lived according to thieves' concepts, not trusting anyone around her, must help find her.\n",
      "there are two problems with this story.\n",
      "the first is the weakness and scarcity of the origin. in previous parts, the creators paid very close attention to presenting the background of the conflict and the motivation of the antagonist, so that the viewer could understand, from the contrast of ideologies, why the confrontation observed on the screen is inevitable. here we learned practically nothing about the chameleon itself. in fact, her elementary dilemma had to be resolved at the level of wise conversations, which the future spiritual mentor of the po valley strived for. however, since she possessed unexplained powers that knew no boundaries, conversations in this conflict turned out to be unnecessary, because it was necessary to bring everything to an epic discharge, which is ideologically sad and wrong.\n",
      "the second is parasitism. the plot did not try to find a new path in the thorny path of a warrior, it only pulled the owl onto the globe, where the owl is a new battle, and the globe is the previous parts of kung fu panda. this leads to the most predictable plot twists and a completely logical loss of interest when watching, because we have already seen this.\n",
      "thought. previous films consistently rooted the viewer's understanding that kung fu is not just about fighting, but, first of all, about harmony with your body and your mind. moreover, this harmony is not available to everyone; to achieve it you need to work long and hard. unfortunately, this cartoon, having developed the abilities of the chameleon to the point of absurdity, made kung fu just a mutation that can be crossed right and left with anything for the sake of artificial epicness, which successfully buried the original message. but he was faithful...\n",
      "fight scenes. a significant portion of the audience loved the franchise, including for the atmosphere of cartoon combat, for its bright, epic and dynamic battles. the bad news is that this aspect has also dropped. the fight scenes were sorely lacking the energy and intensity that we had seen earlier.\n",
      "humor. just jokes, jokes, namely, the previous parts were based on ridiculous, but kind and subtle humor. not forcefully, but rather playfully, the cartoons drew a sincere smile from the viewer. alas, the quality of humor in this part has decreased significantly, falling to the level of absurd gags. goose still delivers concentrated adoration in every scene, but it feels like he's the only one trying.\n",
      "voice acting. i can’t believe it, but without mikhail galustyan’s voice, all the magic is lost! my ear was so accustomed to a certain sound, to a specific onomatopoeia, that as soon as i replaced the voice, the charisma of the main character in my head dropped. moreover, it turned out to be difficult to abstract from this! i'm really looking forward to the voice acting from red head sound! i hope that same voice can bring back the charm of the chubby fighter...\n",
      "animation. the dreamworks studio successfully incorporated into this work the anime inserts that the viewer liked in the second part of “puss in boots,” which again refers to the idea that the creators’ ideas are secondary. to be fair, inside the oriental theme they looked even more organic. moreover, no abuse was noticed against them, so the cartoon can even be praised for this aspect.\n",
      "i feel like kung fu panda 4 borrows too many elements from the studio's previous efforts that it simply hinders any potential creative development that would allow it to become a full-fledged standalone entry in the franchise. the creators did not bother and did something similar to the previous one. but imitation does not create uniqueness, but only secondaryness. previously, kung fu panda highlighted with an introspective message that encourages reflection and self-confidence. here, that approach has disappeared in favor of absurdist humor aimed at children. an hour and a half of timing managed to turn out to be tiring. perhaps the best the studio can do in this situation is to give the franchise a much-needed board that could send it to rest in the cinematic spirit realm...\n",
      "==================================================\n",
      "the directors and screenwriters were able to create a wonderful combination of humor and deep thoughts about the meaning of life. \"dragon warrior\" once again faces problems and challenges. the cartoon invites viewers to look at kung fu from a new perspective - as a way of self-expression and self-improvement. all parts talk about many great masters who have their own view of kung fu. the film inspires and motivates the viewer to find their potential.\n",
      "the film is full of exciting scenes, dynamic battles and impressive visuals. the installation of the work deserves special attention. smooth transitions between scenes, charming characters and a recognizable drawing style create a unique cartoon atmosphere and allow the viewer to plunge into the exciting world of kung fu.\n",
      "impressive special effects and detailed animation create a sense of presence on the screen and surprise with their quality. they didn’t create a new sketch, they left everything as it was - that’s what i liked most, to plunge into that atmosphere again.\n",
      "the undoubted advantage of “kung fu panda 4” is its musical accompaniment. beautiful and dynamic chinese music emphasizes the emotional depth of the scenes and complements the characters. it blends perfectly with the action, creating a rich and vibrant sound world.\n",
      "the script of “kung fu panda 4” does not leave you indifferent. funny dialogues, unexpected turns of events and a deep meaning of the story make this cartoon a real work of art. and, of course, voice acting. no cartoon would be so bright and memorable without professional voice actors. the artists who lent their voices to the characters brought the characters to life and helped the audience fall in love with them even more.\n",
      "overall, kung fu panda 4 is a great continuation of the adventures of po and his friends, which subtly combines sparkling humor, dynamic battles and depth of problems. the film will delight both children and adults with its story about the importance of self-knowledge and overcoming one's fears. the cartoon will leave viewers delighted and wanting to return to the world of kung fu again and again.\n",
      "==================================================\n"
     ]
    }
   ],
   "source": [
    "# Разделение текста на отдельные блоки по пустым строкам\n",
    "text = text.lower()\n",
    "text_blocks = text.split('\\n\\n')\n",
    "\n",
    "text_blocks = [block.strip() for block in text_blocks if block.strip()]\n",
    "\n",
    "for block in text_blocks:\n",
    "    print(block)\n",
    "    print(\"=\" * 50)"
   ]
  },
  {
   "cell_type": "code",
   "execution_count": 57,
   "metadata": {},
   "outputs": [],
   "source": [
    "def simple_tokenize(text):\n",
    "\n",
    "    for punctuation in '!\"#$%&\\'()*+,-./:;<=>?@[\\\\]^_`{|}~“”':\n",
    "        text = text.replace(punctuation, ' ')\n",
    "    \n",
    "    # Разделяем текст по пробелам и удаляем пустые строки\n",
    "    tokens = [token for token in text.split() if token.strip()]\n",
    "    \n",
    "    return tokens"
   ]
  },
  {
   "cell_type": "code",
   "execution_count": 58,
   "metadata": {},
   "outputs": [
    {
     "name": "stdout",
     "output_type": "stream",
     "text": [
      "['but', 'we', 'were', 'expecting', 'something', 'completely', 'different', 'using', 'the', 'example', 'of', 'madagascar', 'and', 'how', 'to', 'train', 'your', 'dragon', 'we', 'saw', 'that', 'the', 'dreamworks', 'studio', 'had', 'the', 'courage', 'to', 'stop', 'in', 'time', 'which', 'is', 'why', 'perhaps', 'no', 'one', 'expected', 'a', 'continuation', 'of', 'poe’s', 'story', 'however', 'here', 'it', 'is', 'in', '2024', 'and', 'the', 'fourth', 'part', 'of', 'kung', 'fu', 'panda', 'is', 'coming', 'out', 'which', 'must', 'correspond', 'because', 'it', 'will', 'not', 'be', 'able', 'to', 'avoid', 'comparison', 'with', 'the', 'previous', 'ones', 'the', 'first', 'one', 'is', 'still', 'the', 'strongest', 'for', 'me', 'but', 'the', 'sequels', 'at', 'one', 'time', 'were', 'able', 'to', 'maintain', 'a', 'sufficient', 'level', 'of', 'quality', 'to', 'preserve', 'warm', 'feelings', 'for', 'the', 'characters', 'to', 'capture', 'this', 'fabulous', 'but', 'so', 'living', 'world', 'of', 'martial', 'arts', 'was', 'the', 'release', 'of', 'the', 'fourth', 'part', 'justified', 'of', 'course', 'the', 'audience', 'managed', 'to', 'miss', 'their', 'favorite', 'characters', 'eight', 'whole', 'years', 'have', 'passed', 'but', 'was', 'she', 'able', 'to', 'live', 'up', 'to', 'these', 'expectations', 'did', 'the', 'studio', 'treat', 'its', 'own', 'franchise', 'with', 'the', 'same', 'awe', 'that', 'the', 'audience', 'had', 'good', 'question', 'plot', 'dragon', 'warrior', 'is', 'just', 'a', 'title', 'passed', 'from', 'one', 'fighter', 'to', 'another', 'therefore', 'master', 'shifu', 'persistently', 'convinces', 'po', 'to', 'entrust', 'the', 'responsibility', 'of', 'protecting', 'the', 'valley', 'to', 'a', 'worthy', 'successor', 'while', 'taking', 'the', 'role', 'of', 'a', 'spiritual', 'mentor', 'however', 'the', 'changes', 'frighten', 'the', 'panda', 'which', 'is', 'why', 'he', 'delays', 'this', 'moment', 'setting', 'off', 'on', 'his', 'last', 'task', 'to', 'eliminate', 'the', 'evil', 'sorceress', 'chameleon', 'they', 'didn’t', 'even', 'come', 'up', 'with', 'a', 'name', 'capable', 'of', 'turning', 'into', 'anyone', 'who', 'harbored', 'a', 'grudge', 'against', 'the', 'whole', 'world', 'and', 'wanted', 'to', 'subjugate', 'it', 'the', 'fox', 'thief', 'zhen', 'who', 'all', 'her', 'life', 'before', 'meeting', 'po', 'lived', 'according', 'to', 'thieves', 'concepts', 'not', 'trusting', 'anyone', 'around', 'her', 'must', 'help', 'find', 'her', 'there', 'are', 'two', 'problems', 'with', 'this', 'story', 'the', 'first', 'is', 'the', 'weakness', 'and', 'scarcity', 'of', 'the', 'origin', 'in', 'previous', 'parts', 'the', 'creators', 'paid', 'very', 'close', 'attention', 'to', 'presenting', 'the', 'background', 'of', 'the', 'conflict', 'and', 'the', 'motivation', 'of', 'the', 'antagonist', 'so', 'that', 'the', 'viewer', 'could', 'understand', 'from', 'the', 'contrast', 'of', 'ideologies', 'why', 'the', 'confrontation', 'observed', 'on', 'the', 'screen', 'is', 'inevitable', 'here', 'we', 'learned', 'practically', 'nothing', 'about', 'the', 'chameleon', 'itself', 'in', 'fact', 'her', 'elementary', 'dilemma', 'had', 'to', 'be', 'resolved', 'at', 'the', 'level', 'of', 'wise', 'conversations', 'which', 'the', 'future', 'spiritual', 'mentor', 'of', 'the', 'po', 'valley', 'strived', 'for', 'however', 'since', 'she', 'possessed', 'unexplained', 'powers', 'that', 'knew', 'no', 'boundaries', 'conversations', 'in', 'this', 'conflict', 'turned', 'out', 'to', 'be', 'unnecessary', 'because', 'it', 'was', 'necessary', 'to', 'bring', 'everything', 'to', 'an', 'epic', 'discharge', 'which', 'is', 'ideologically', 'sad', 'and', 'wrong', 'the', 'second', 'is', 'parasitism', 'the', 'plot', 'did', 'not', 'try', 'to', 'find', 'a', 'new', 'path', 'in', 'the', 'thorny', 'path', 'of', 'a', 'warrior', 'it', 'only', 'pulled', 'the', 'owl', 'onto', 'the', 'globe', 'where', 'the', 'owl', 'is', 'a', 'new', 'battle', 'and', 'the', 'globe', 'is', 'the', 'previous', 'parts', 'of', 'kung', 'fu', 'panda', 'this', 'leads', 'to', 'the', 'most', 'predictable', 'plot', 'twists', 'and', 'a', 'completely', 'logical', 'loss', 'of', 'interest', 'when', 'watching', 'because', 'we', 'have', 'already', 'seen', 'this', 'thought', 'previous', 'films', 'consistently', 'rooted', 'the', 'viewer', 's', 'understanding', 'that', 'kung', 'fu', 'is', 'not', 'just', 'about', 'fighting', 'but', 'first', 'of', 'all', 'about', 'harmony', 'with', 'your', 'body', 'and', 'your', 'mind', 'moreover', 'this', 'harmony', 'is', 'not', 'available', 'to', 'everyone', 'to', 'achieve', 'it', 'you', 'need', 'to', 'work', 'long', 'and', 'hard', 'unfortunately', 'this', 'cartoon', 'having', 'developed', 'the', 'abilities', 'of', 'the', 'chameleon', 'to', 'the', 'point', 'of', 'absurdity', 'made', 'kung', 'fu', 'just', 'a', 'mutation', 'that', 'can', 'be', 'crossed', 'right', 'and', 'left', 'with', 'anything', 'for', 'the', 'sake', 'of', 'artificial', 'epicness', 'which', 'successfully', 'buried', 'the', 'original', 'message', 'but', 'he', 'was', 'faithful', 'fight', 'scenes', 'a', 'significant', 'portion', 'of', 'the', 'audience', 'loved', 'the', 'franchise', 'including', 'for', 'the', 'atmosphere', 'of', 'cartoon', 'combat', 'for', 'its', 'bright', 'epic', 'and', 'dynamic', 'battles', 'the', 'bad', 'news', 'is', 'that', 'this', 'aspect', 'has', 'also', 'dropped', 'the', 'fight', 'scenes', 'were', 'sorely', 'lacking', 'the', 'energy', 'and', 'intensity', 'that', 'we', 'had', 'seen', 'earlier', 'humor', 'just', 'jokes', 'jokes', 'namely', 'the', 'previous', 'parts', 'were', 'based', 'on', 'ridiculous', 'but', 'kind', 'and', 'subtle', 'humor', 'not', 'forcefully', 'but', 'rather', 'playfully', 'the', 'cartoons', 'drew', 'a', 'sincere', 'smile', 'from', 'the', 'viewer', 'alas', 'the', 'quality', 'of', 'humor', 'in', 'this', 'part', 'has', 'decreased', 'significantly', 'falling', 'to', 'the', 'level', 'of', 'absurd', 'gags', 'goose', 'still', 'delivers', 'concentrated', 'adoration', 'in', 'every', 'scene', 'but', 'it', 'feels', 'like', 'he', 's', 'the', 'only', 'one', 'trying', 'voice', 'acting', 'i', 'can’t', 'believe', 'it', 'but', 'without', 'mikhail', 'galustyan’s', 'voice', 'all', 'the', 'magic', 'is', 'lost', 'my', 'ear', 'was', 'so', 'accustomed', 'to', 'a', 'certain', 'sound', 'to', 'a', 'specific', 'onomatopoeia', 'that', 'as', 'soon', 'as', 'i', 'replaced', 'the', 'voice', 'the', 'charisma', 'of', 'the', 'main', 'character', 'in', 'my', 'head', 'dropped', 'moreover', 'it', 'turned', 'out', 'to', 'be', 'difficult', 'to', 'abstract', 'from', 'this', 'i', 'm', 'really', 'looking', 'forward', 'to', 'the', 'voice', 'acting', 'from', 'red', 'head', 'sound', 'i', 'hope', 'that', 'same', 'voice', 'can', 'bring', 'back', 'the', 'charm', 'of', 'the', 'chubby', 'fighter', 'animation', 'the', 'dreamworks', 'studio', 'successfully', 'incorporated', 'into', 'this', 'work', 'the', 'anime', 'inserts', 'that', 'the', 'viewer', 'liked', 'in', 'the', 'second', 'part', 'of', 'puss', 'in', 'boots', 'which', 'again', 'refers', 'to', 'the', 'idea', 'that', 'the', 'creators’', 'ideas', 'are', 'secondary', 'to', 'be', 'fair', 'inside', 'the', 'oriental', 'theme', 'they', 'looked', 'even', 'more', 'organic', 'moreover', 'no', 'abuse', 'was', 'noticed', 'against', 'them', 'so', 'the', 'cartoon', 'can', 'even', 'be', 'praised', 'for', 'this', 'aspect', 'i', 'feel', 'like', 'kung', 'fu', 'panda', '4', 'borrows', 'too', 'many', 'elements', 'from', 'the', 'studio', 's', 'previous', 'efforts', 'that', 'it', 'simply', 'hinders', 'any', 'potential', 'creative', 'development', 'that', 'would', 'allow', 'it', 'to', 'become', 'a', 'full', 'fledged', 'standalone', 'entry', 'in', 'the', 'franchise', 'the', 'creators', 'did', 'not', 'bother', 'and', 'did', 'something', 'similar', 'to', 'the', 'previous', 'one', 'but', 'imitation', 'does', 'not', 'create', 'uniqueness', 'but', 'only', 'secondaryness', 'previously', 'kung', 'fu', 'panda', 'highlighted', 'with', 'an', 'introspective', 'message', 'that', 'encourages', 'reflection', 'and', 'self', 'confidence', 'here', 'that', 'approach', 'has', 'disappeared', 'in', 'favor', 'of', 'absurdist', 'humor', 'aimed', 'at', 'children', 'an', 'hour', 'and', 'a', 'half', 'of', 'timing', 'managed', 'to', 'turn', 'out', 'to', 'be', 'tiring', 'perhaps', 'the', 'best', 'the', 'studio', 'can', 'do', 'in', 'this', 'situation', 'is', 'to', 'give', 'the', 'franchise', 'a', 'much', 'needed', 'board', 'that', 'could', 'send', 'it', 'to', 'rest', 'in', 'the', 'cinematic', 'spirit', 'realm']\n",
      "==================================================\n",
      "['the', 'directors', 'and', 'screenwriters', 'were', 'able', 'to', 'create', 'a', 'wonderful', 'combination', 'of', 'humor', 'and', 'deep', 'thoughts', 'about', 'the', 'meaning', 'of', 'life', 'dragon', 'warrior', 'once', 'again', 'faces', 'problems', 'and', 'challenges', 'the', 'cartoon', 'invites', 'viewers', 'to', 'look', 'at', 'kung', 'fu', 'from', 'a', 'new', 'perspective', 'as', 'a', 'way', 'of', 'self', 'expression', 'and', 'self', 'improvement', 'all', 'parts', 'talk', 'about', 'many', 'great', 'masters', 'who', 'have', 'their', 'own', 'view', 'of', 'kung', 'fu', 'the', 'film', 'inspires', 'and', 'motivates', 'the', 'viewer', 'to', 'find', 'their', 'potential', 'the', 'film', 'is', 'full', 'of', 'exciting', 'scenes', 'dynamic', 'battles', 'and', 'impressive', 'visuals', 'the', 'installation', 'of', 'the', 'work', 'deserves', 'special', 'attention', 'smooth', 'transitions', 'between', 'scenes', 'charming', 'characters', 'and', 'a', 'recognizable', 'drawing', 'style', 'create', 'a', 'unique', 'cartoon', 'atmosphere', 'and', 'allow', 'the', 'viewer', 'to', 'plunge', 'into', 'the', 'exciting', 'world', 'of', 'kung', 'fu', 'impressive', 'special', 'effects', 'and', 'detailed', 'animation', 'create', 'a', 'sense', 'of', 'presence', 'on', 'the', 'screen', 'and', 'surprise', 'with', 'their', 'quality', 'they', 'didn’t', 'create', 'a', 'new', 'sketch', 'they', 'left', 'everything', 'as', 'it', 'was', 'that’s', 'what', 'i', 'liked', 'most', 'to', 'plunge', 'into', 'that', 'atmosphere', 'again', 'the', 'undoubted', 'advantage', 'of', 'kung', 'fu', 'panda', '4', 'is', 'its', 'musical', 'accompaniment', 'beautiful', 'and', 'dynamic', 'chinese', 'music', 'emphasizes', 'the', 'emotional', 'depth', 'of', 'the', 'scenes', 'and', 'complements', 'the', 'characters', 'it', 'blends', 'perfectly', 'with', 'the', 'action', 'creating', 'a', 'rich', 'and', 'vibrant', 'sound', 'world', 'the', 'script', 'of', 'kung', 'fu', 'panda', '4', 'does', 'not', 'leave', 'you', 'indifferent', 'funny', 'dialogues', 'unexpected', 'turns', 'of', 'events', 'and', 'a', 'deep', 'meaning', 'of', 'the', 'story', 'make', 'this', 'cartoon', 'a', 'real', 'work', 'of', 'art', 'and', 'of', 'course', 'voice', 'acting', 'no', 'cartoon', 'would', 'be', 'so', 'bright', 'and', 'memorable', 'without', 'professional', 'voice', 'actors', 'the', 'artists', 'who', 'lent', 'their', 'voices', 'to', 'the', 'characters', 'brought', 'the', 'characters', 'to', 'life', 'and', 'helped', 'the', 'audience', 'fall', 'in', 'love', 'with', 'them', 'even', 'more', 'overall', 'kung', 'fu', 'panda', '4', 'is', 'a', 'great', 'continuation', 'of', 'the', 'adventures', 'of', 'po', 'and', 'his', 'friends', 'which', 'subtly', 'combines', 'sparkling', 'humor', 'dynamic', 'battles', 'and', 'depth', 'of', 'problems', 'the', 'film', 'will', 'delight', 'both', 'children', 'and', 'adults', 'with', 'its', 'story', 'about', 'the', 'importance', 'of', 'self', 'knowledge', 'and', 'overcoming', 'one', 's', 'fears', 'the', 'cartoon', 'will', 'leave', 'viewers', 'delighted', 'and', 'wanting', 'to', 'return', 'to', 'the', 'world', 'of', 'kung', 'fu', 'again', 'and', 'again']\n",
      "==================================================\n"
     ]
    }
   ],
   "source": [
    "tokenized_text_blocks = []\n",
    " \n",
    "for block in text_blocks:\n",
    "    tokens = simple_tokenize(block)\n",
    "    tokenized_text_blocks.append(tokens)\n",
    "\n",
    "# Вывод токенизированных блоков\n",
    "for tokens in tokenized_text_blocks:\n",
    "    print(tokens)\n",
    "    print(\"=\" * 50)"
   ]
  },
  {
   "cell_type": "code",
   "execution_count": 59,
   "metadata": {},
   "outputs": [
    {
     "name": "stdout",
     "output_type": "stream",
     "text": [
      "[18, 72, 68, 1014, 139, 337, 272, 769, 1, 460, 4, 1, 2, 86, 5, 1371, 126, 2782, 72, 216, 12, 1, 1, 1179, 66, 1, 3155, 5, 567, 8, 55, 60, 6, 135, 379, 54, 28, 870, 3, 1, 4, 62, 187, 130, 9, 6, 8, 2, 1, 2767, 170, 4, 2132, 1876, 1, 6, 579, 43, 60, 212, 1, 85, 9, 77, 21, 27, 499, 5, 795, 2093, 16, 1, 957, 660, 1, 83, 28, 6, 128, 1, 1, 15, 69, 18, 1, 2286, 30, 28, 55, 68, 499, 5, 4557, 3, 1, 648, 4, 486, 5, 1, 2269, 1414, 15, 1, 102, 5, 1836, 11, 2723, 18, 35, 578, 179, 4, 1644, 1730, 13, 1, 763, 4, 1, 2767, 170, 1, 4, 262, 1, 308, 1316, 5, 714, 65, 511, 102, 2307, 223, 150, 25, 2113, 18, 13, 56, 499, 5, 409, 53, 5, 131, 1395, 119, 1, 1179, 1691, 91, 202, 3132, 16, 1, 169, 4296, 12, 1, 308, 66, 49, 885, 111, 2782, 3742, 6, 40, 3, 422, 2113, 36, 28, 4022, 5, 157, 1614, 1297, 1, 1, 1, 5, 1, 4753, 4, 1, 1, 1, 5, 3, 1514, 1, 134, 653, 1, 214, 4, 3, 3577, 1, 187, 1, 1440, 1, 1, 1, 60, 6, 135, 26, 1, 11, 558, 953, 122, 20, 24, 233, 2787, 5, 1, 1, 442, 1, 1, 33, 1, 57, 213, 53, 16, 3, 400, 2247, 4, 1584, 80, 256, 34, 1, 3, 1, 426, 1, 223, 179, 2, 470, 5, 9, 1, 1672, 3033, 1, 34, 29, 38, 110, 156, 2177, 1, 1449, 1790, 5, 1, 1, 21, 1, 256, 184, 38, 212, 336, 166, 38, 47, 23, 104, 709, 16, 11, 62, 1, 83, 6, 1, 1, 2, 1, 4, 1, 1, 8, 957, 528, 1, 3681, 1536, 52, 488, 689, 5, 1, 1, 975, 4, 1, 1941, 2, 1, 3663, 4, 1, 1, 35, 12, 1, 526, 97, 388, 36, 1, 2285, 4, 1, 135, 1, 1, 1, 20, 1, 265, 6, 3452, 130, 72, 2048, 2198, 161, 41, 1, 1, 407, 8, 189, 38, 1, 1, 66, 5, 27, 1, 30, 1, 648, 4, 1564, 3955, 60, 1, 702, 3577, 1, 4, 1, 1, 1, 1, 15, 187, 234, 56, 4028, 1, 1719, 12, 694, 54, 1, 3955, 8, 11, 1941, 676, 43, 5, 27, 1741, 85, 9, 13, 1667, 5, 718, 282, 5, 32, 1708, 1, 60, 6, 1, 616, 2, 352, 1, 330, 6, 1, 111, 119, 21, 350, 5, 166, 3, 159, 2521, 8, 1, 1, 2521, 4, 3, 3742, 9, 61, 1903, 1, 1, 1643, 1, 1, 118, 1, 1, 6, 3, 159, 982, 2, 1, 1, 6, 1, 957, 528, 4, 2132, 1876, 1, 11, 829, 5, 1, 88, 724, 111, 1296, 2, 3, 337, 3668, 1934, 4, 599, 51, 146, 85, 72, 25, 457, 107, 11, 194, 957, 105, 4149, 1, 1, 526, 587, 1894, 12, 2132, 1876, 6, 21, 40, 41, 994, 18, 83, 4, 29, 41, 1, 16, 126, 645, 2, 126, 327, 1, 11, 1, 6, 21, 1436, 5, 313, 5, 2712, 9, 22, 356, 5, 154, 193, 2, 251, 469, 11, 1069, 257, 1388, 1, 4035, 4, 1, 1, 5, 1, 210, 4, 1, 90, 2132, 1876, 40, 3, 1, 12, 67, 27, 1, 205, 2, 314, 16, 230, 15, 1, 2116, 4, 4499, 60, 2973, 3551, 1, 201, 746, 18, 26, 13, 2734, 545, 136, 3, 2678, 4163, 4, 1, 308, 444, 1, 3132, 584, 15, 1, 838, 4, 1069, 3997, 15, 91, 1924, 1708, 2, 3918, 3350, 1, 75, 1633, 6, 12, 11, 1248, 44, 79, 3441, 1, 545, 136, 68, 1, 1889, 1, 1705, 2, 3030, 12, 72, 66, 107, 905, 483, 40, 637, 637, 4460, 1, 957, 528, 68, 445, 20, 644, 18, 240, 2, 1299, 483, 21, 1, 18, 244, 1, 1, 2470, 2263, 3, 4826, 1823, 36, 1, 526, 2937, 1, 486, 4, 483, 8, 11, 170, 44, 1, 1, 1451, 5, 1, 648, 4, 1752, 1991, 1, 128, 1542, 1, 1, 8, 172, 133, 18, 9, 761, 37, 26, 587, 1, 61, 28, 266, 541, 113, 10, 1, 261, 9, 18, 206, 1, 541, 29, 1, 1233, 6, 413, 58, 4886, 13, 35, 1, 5, 3, 810, 478, 5, 3, 3380, 12, 14, 512, 14, 10, 2956, 1, 541, 1, 3312, 4, 1, 290, 106, 8, 58, 416, 3441, 1, 9, 676, 43, 5, 27, 875, 5, 1, 36, 11, 10, 1980, 63, 264, 927, 5, 1, 541, 113, 36, 764, 416, 478, 10, 437, 12, 169, 541, 67, 718, 142, 1, 1379, 4, 1, 1, 4022, 745, 1, 1, 1179, 2973, 1, 80, 11, 154, 1, 2155, 1, 12, 1, 526, 420, 8, 1, 330, 170, 4, 1, 8, 1, 60, 171, 1, 5, 1, 323, 12, 1, 1005, 23, 1, 5, 27, 1254, 1001, 1, 1, 753, 33, 607, 57, 50, 1, 1, 54, 2566, 13, 1922, 426, 95, 35, 1, 1069, 67, 57, 27, 1, 15, 11, 1248, 10, 232, 37, 2132, 1876, 1, 467, 1, 96, 108, 788, 36, 1, 1179, 587, 957, 2045, 12, 9, 328, 1, 98, 983, 1515, 940, 12, 59, 1738, 9, 5, 410, 3, 365, 1, 1, 3195, 8, 1, 3132, 1, 3681, 119, 21, 1411, 2, 119, 139, 726, 5, 1, 957, 28, 18, 4856, 124, 21, 984, 1, 18, 61, 2450, 2132, 1876, 1, 1, 16, 32, 1, 746, 12, 1, 1, 2, 529, 4451, 130, 12, 1480, 44, 4329, 8, 2074, 4, 1, 483, 3708, 30, 473, 32, 531, 2, 3, 317, 4, 2849, 1316, 5, 468, 43, 5, 27, 1, 379, 1, 115, 1, 1179, 67, 78, 8, 11, 901, 6, 5, 199, 1, 3132, 3, 73, 884, 2086, 12, 97, 2219, 9, 5, 357, 8, 1, 1357, 1100, 1]\n",
      "==================================================\n",
      "[1, 904, 2, 1, 68, 499, 5, 984, 3, 386, 2218, 4, 483, 2, 930, 2331, 41, 1, 1214, 4, 110, 2782, 3742, 277, 171, 1587, 709, 2, 1, 1, 1069, 1, 794, 5, 165, 30, 2132, 1876, 36, 3, 159, 1968, 14, 3, 93, 4, 529, 2824, 2, 529, 4890, 29, 528, 737, 41, 108, 84, 4156, 34, 25, 65, 202, 647, 4, 2132, 1876, 1, 19, 1, 2, 1, 1, 526, 5, 166, 65, 983, 1, 19, 6, 365, 4, 1124, 136, 3918, 3350, 2, 1156, 2054, 1, 1, 4, 1, 154, 1012, 315, 689, 3554, 1, 197, 136, 1217, 102, 2, 3, 1, 3859, 402, 984, 3, 952, 1069, 838, 2, 1738, 1, 526, 5, 1, 80, 1, 1124, 179, 4, 2132, 1876, 1156, 315, 299, 2, 4051, 745, 984, 3, 278, 4, 1366, 20, 1, 265, 2, 863, 16, 65, 486, 33, 1, 984, 3, 159, 1, 33, 314, 282, 14, 9, 13, 1, 48, 10, 420, 88, 5, 1, 80, 12, 838, 171, 1, 1, 3076, 4, 2132, 1876, 1, 467, 6, 91, 618, 1, 304, 2, 3918, 1616, 225, 1, 1, 918, 1134, 4, 1, 136, 2, 1, 1, 102, 9, 1, 947, 16, 1, 203, 1852, 3, 1023, 2, 1, 478, 179, 1, 226, 4, 2132, 1876, 1, 467, 124, 21, 560, 22, 1, 160, 3960, 2073, 502, 4, 684, 2, 3, 930, 1214, 4, 1, 62, 94, 11, 1069, 3, 144, 154, 4, 495, 2, 4, 262, 541, 113, 54, 1069, 59, 27, 35, 1924, 2, 903, 206, 1621, 541, 153, 1, 2716, 34, 1, 65, 2335, 5, 1, 102, 836, 1, 102, 5, 110, 2, 1675, 1, 308, 806, 8, 116, 16, 95, 57, 50, 441, 2132, 1876, 1, 467, 6, 3, 84, 1, 4, 1, 2471, 4, 1, 2, 24, 366, 60, 1, 1, 1, 483, 3918, 3350, 2, 1134, 4, 709, 1, 19, 77, 3034, 196, 473, 2, 1470, 16, 91, 62, 41, 1, 3392, 4, 529, 1854, 2, 1, 28, 587, 3561, 1, 1069, 77, 560, 794, 1, 2, 1783, 5, 991, 5, 1, 179, 4, 2132, 1876, 171, 2, 171]\n",
      "==================================================\n"
     ]
    }
   ],
   "source": [
    "def search_indexes(tokens):\n",
    "    find_flag = False\n",
    "    indexes = []\n",
    "    for word in tokens:\n",
    "        for index, words in word_idx.items():\n",
    "            if word == words:\n",
    "                if index < 5000:\n",
    "                    indexes.append(index)\n",
    "                else:\n",
    "                    indexes.append(1)\n",
    "                find_flag = True\n",
    "                break\n",
    "        if not find_flag:\n",
    "            indexes.append(1)\n",
    "        \n",
    "    return indexes\n",
    "\n",
    "for tokens in tokenized_text_blocks:\n",
    "    print(search_indexes(tokens))\n",
    "    print(\"=\" * 50)"
   ]
  },
  {
   "cell_type": "code",
   "execution_count": 60,
   "metadata": {},
   "outputs": [
    {
     "name": "stdout",
     "output_type": "stream",
     "text": [
      "[[18, 72, 68, 1014, 139, 337, 272, 769, 1, 460, 4, 1, 2, 86, 5, 1371, 126, 2782, 72, 216, 12, 1, 1, 1179, 66, 1, 3155, 5, 567, 8, 55, 60, 6, 135, 379, 54, 28, 870, 3, 1, 4, 62, 187, 130, 9, 6, 8, 2, 1, 2767, 170, 4, 2132, 1876, 1, 6, 579, 43, 60, 212, 1, 85, 9, 77, 21, 27, 499, 5, 795, 2093, 16, 1, 957, 660, 1, 83, 28, 6, 128, 1, 1, 15, 69, 18, 1, 2286, 30, 28, 55, 68, 499, 5, 4557, 3, 1, 648, 4, 486, 5, 1, 2269, 1414, 15, 1, 102, 5, 1836, 11, 2723, 18, 35, 578, 179, 4, 1644, 1730, 13, 1, 763, 4, 1, 2767, 170, 1, 4, 262, 1, 308, 1316, 5, 714, 65, 511, 102, 2307, 223, 150, 25, 2113, 18, 13, 56, 499, 5, 409, 53, 5, 131, 1395, 119, 1, 1179, 1691, 91, 202, 3132, 16, 1, 169, 4296, 12, 1, 308, 66, 49, 885, 111, 2782, 3742, 6, 40, 3, 422, 2113, 36, 28, 4022, 5, 157, 1614, 1297, 1, 1, 1, 5, 1, 4753, 4, 1, 1, 1, 5, 3, 1514, 1, 134, 653, 1, 214, 4, 3, 3577, 1, 187, 1, 1440, 1, 1, 1, 60, 6, 135, 26, 1, 11, 558, 953, 122, 20, 24, 233, 2787, 5, 1, 1, 442, 1, 1, 33, 1, 57, 213, 53, 16, 3, 400, 2247, 4, 1584, 80, 256, 34, 1, 3, 1, 426, 1, 223, 179, 2, 470, 5, 9, 1, 1672, 3033, 1, 34, 29, 38, 110, 156, 2177, 1, 1449, 1790, 5, 1, 1, 21, 1, 256, 184, 38, 212, 336, 166, 38, 47, 23, 104, 709, 16, 11, 62, 1, 83, 6, 1, 1, 2, 1, 4, 1, 1, 8, 957, 528, 1, 3681, 1536, 52, 488, 689, 5, 1, 1, 975, 4, 1, 1941, 2, 1, 3663, 4, 1, 1, 35, 12, 1, 526, 97, 388, 36, 1, 2285, 4, 1, 135, 1, 1, 1, 20, 1, 265, 6, 3452, 130, 72, 2048, 2198, 161, 41, 1, 1, 407, 8, 189, 38, 1, 1, 66, 5, 27, 1, 30, 1, 648, 4, 1564, 3955, 60, 1, 702, 3577, 1, 4, 1, 1, 1, 1, 15, 187, 234, 56, 4028, 1, 1719, 12, 694, 54, 1, 3955, 8, 11, 1941, 676, 43, 5, 27, 1741, 85, 9, 13, 1667, 5, 718, 282, 5, 32, 1708, 1, 60, 6, 1, 616, 2, 352, 1, 330, 6, 1, 111, 119, 21, 350, 5, 166, 3, 159, 2521, 8, 1, 1, 2521, 4, 3, 3742, 9, 61, 1903, 1, 1, 1643, 1, 1, 118, 1, 1, 6, 3, 159, 982, 2, 1, 1, 6, 1, 957, 528, 4, 2132, 1876, 1, 11, 829, 5, 1, 88, 724, 111, 1296, 2, 3, 337, 3668, 1934, 4, 599, 51, 146, 85, 72, 25, 457, 107, 11, 194, 957, 105, 4149, 1, 1, 526, 587, 1894, 12, 2132, 1876, 6, 21, 40, 41, 994, 18, 83, 4, 29, 41, 1, 16, 126, 645, 2, 126, 327, 1, 11, 1, 6, 21, 1436, 5, 313, 5, 2712, 9, 22, 356, 5, 154, 193, 2, 251, 469, 11, 1069, 257, 1388, 1, 4035, 4, 1, 1, 5, 1, 210, 4, 1, 90, 2132, 1876, 40, 3, 1, 12, 67, 27, 1, 205, 2, 314, 16, 230, 15, 1, 2116, 4, 4499, 60, 2973, 3551, 1, 201, 746, 18, 26, 13, 2734, 545, 136, 3, 2678, 4163, 4, 1, 308, 444, 1, 3132, 584, 15, 1, 838, 4, 1069, 3997, 15, 91, 1924, 1708, 2, 3918, 3350, 1, 75, 1633, 6, 12, 11, 1248, 44, 79, 3441, 1, 545, 136, 68, 1, 1889, 1, 1705, 2, 3030, 12, 72, 66, 107, 905, 483, 40, 637, 637, 4460, 1, 957, 528, 68, 445, 20, 644, 18, 240, 2, 1299, 483, 21, 1, 18, 244, 1, 1, 2470, 2263, 3, 4826, 1823, 36, 1, 526, 2937, 1, 486, 4, 483, 8, 11, 170, 44, 1, 1, 1451, 5, 1, 648, 4, 1752, 1991, 1, 128, 1542, 1, 1, 8, 172, 133, 18, 9, 761, 37, 26, 587, 1, 61, 28, 266, 541, 113, 10, 1, 261, 9, 18, 206, 1, 541, 29, 1, 1233, 6, 413, 58, 4886, 13, 35, 1, 5, 3, 810, 478, 5, 3, 3380, 12, 14, 512, 14, 10, 2956, 1, 541, 1, 3312, 4, 1, 290, 106, 8, 58, 416, 3441, 1, 9, 676, 43, 5, 27, 875, 5, 1, 36, 11, 10, 1980, 63, 264, 927, 5, 1, 541, 113, 36, 764, 416, 478, 10, 437, 12, 169, 541, 67, 718, 142, 1, 1379, 4, 1, 1, 4022, 745, 1, 1, 1179, 2973, 1, 80, 11, 154, 1, 2155, 1, 12, 1, 526, 420, 8, 1, 330, 170, 4, 1, 8, 1, 60, 171, 1, 5, 1, 323, 12, 1, 1005, 23, 1, 5, 27, 1254, 1001, 1, 1, 753, 33, 607, 57, 50, 1, 1, 54, 2566, 13, 1922, 426, 95, 35, 1, 1069, 67, 57, 27, 1, 15, 11, 1248, 10, 232, 37, 2132, 1876, 1, 467, 1, 96, 108, 788, 36, 1, 1179, 587, 957, 2045, 12, 9, 328, 1, 98, 983, 1515, 940, 12, 59, 1738, 9, 5, 410, 3, 365, 1, 1, 3195, 8, 1, 3132, 1, 3681, 119, 21, 1411, 2, 119, 139, 726, 5, 1, 957, 28, 18, 4856, 124, 21, 984, 1, 18, 61, 2450, 2132, 1876, 1, 1, 16, 32, 1, 746, 12, 1, 1, 2, 529, 4451, 130, 12, 1480, 44, 4329, 8, 2074, 4, 1, 483, 3708, 30, 473, 32, 531, 2, 3, 317, 4, 2849, 1316, 5, 468, 43, 5, 27, 1, 379, 1, 115, 1, 1179, 67, 78, 8, 11, 901, 6, 5, 199, 1, 3132, 3, 73, 884, 2086, 12, 97, 2219, 9, 5, 357, 8, 1, 1357, 1100, 1], [1, 904, 2, 1, 68, 499, 5, 984, 3, 386, 2218, 4, 483, 2, 930, 2331, 41, 1, 1214, 4, 110, 2782, 3742, 277, 171, 1587, 709, 2, 1, 1, 1069, 1, 794, 5, 165, 30, 2132, 1876, 36, 3, 159, 1968, 14, 3, 93, 4, 529, 2824, 2, 529, 4890, 29, 528, 737, 41, 108, 84, 4156, 34, 25, 65, 202, 647, 4, 2132, 1876, 1, 19, 1, 2, 1, 1, 526, 5, 166, 65, 983, 1, 19, 6, 365, 4, 1124, 136, 3918, 3350, 2, 1156, 2054, 1, 1, 4, 1, 154, 1012, 315, 689, 3554, 1, 197, 136, 1217, 102, 2, 3, 1, 3859, 402, 984, 3, 952, 1069, 838, 2, 1738, 1, 526, 5, 1, 80, 1, 1124, 179, 4, 2132, 1876, 1156, 315, 299, 2, 4051, 745, 984, 3, 278, 4, 1366, 20, 1, 265, 2, 863, 16, 65, 486, 33, 1, 984, 3, 159, 1, 33, 314, 282, 14, 9, 13, 1, 48, 10, 420, 88, 5, 1, 80, 12, 838, 171, 1, 1, 3076, 4, 2132, 1876, 1, 467, 6, 91, 618, 1, 304, 2, 3918, 1616, 225, 1, 1, 918, 1134, 4, 1, 136, 2, 1, 1, 102, 9, 1, 947, 16, 1, 203, 1852, 3, 1023, 2, 1, 478, 179, 1, 226, 4, 2132, 1876, 1, 467, 124, 21, 560, 22, 1, 160, 3960, 2073, 502, 4, 684, 2, 3, 930, 1214, 4, 1, 62, 94, 11, 1069, 3, 144, 154, 4, 495, 2, 4, 262, 541, 113, 54, 1069, 59, 27, 35, 1924, 2, 903, 206, 1621, 541, 153, 1, 2716, 34, 1, 65, 2335, 5, 1, 102, 836, 1, 102, 5, 110, 2, 1675, 1, 308, 806, 8, 116, 16, 95, 57, 50, 441, 2132, 1876, 1, 467, 6, 3, 84, 1, 4, 1, 2471, 4, 1, 2, 24, 366, 60, 1, 1, 1, 483, 3918, 3350, 2, 1134, 4, 709, 1, 19, 77, 3034, 196, 473, 2, 1470, 16, 91, 62, 41, 1, 3392, 4, 529, 1854, 2, 1, 28, 587, 3561, 1, 1069, 77, 560, 794, 1, 2, 1783, 5, 991, 5, 1, 179, 4, 2132, 1876, 171, 2, 171]]\n"
     ]
    }
   ],
   "source": [
    "indexes_list = []\n",
    "\n",
    "for tokens in tokenized_text_blocks:\n",
    "    indexes = search_indexes(tokens)\n",
    "    indexes_list.append(indexes)\n",
    "\n",
    "print(indexes_list)"
   ]
  },
  {
   "cell_type": "markdown",
   "metadata": {},
   "source": [
    "### ТЕСТ"
   ]
  },
  {
   "cell_type": "markdown",
   "metadata": {},
   "source": [
    "1 - положительная рецензия, 0 - негативная"
   ]
  },
  {
   "cell_type": "code",
   "execution_count": 61,
   "metadata": {},
   "outputs": [
    {
     "name": "stdout",
     "output_type": "stream",
     "text": [
      "1/1 [==============================] - 0s 44ms/step\n",
      "Предсказанное настроение: [[0.00913457]\n",
      " [0.09803171]]\n"
     ]
    }
   ],
   "source": [
    "padded_sequences = pad_sequences(indexes_list, maxlen=max_words)\n",
    "\n",
    "# Предсказание настроения текста\n",
    "prediction = model.predict(padded_sequences)\n",
    "\n",
    "print(\"Предсказанное настроение:\", prediction)"
   ]
  }
 ],
 "metadata": {
  "kernelspec": {
   "display_name": "Python 3",
   "language": "python",
   "name": "python3"
  },
  "language_info": {
   "codemirror_mode": {
    "name": "ipython",
    "version": 3
   },
   "file_extension": ".py",
   "mimetype": "text/x-python",
   "name": "python",
   "nbconvert_exporter": "python",
   "pygments_lexer": "ipython3",
   "version": "3.11.4"
  },
  "orig_nbformat": 4
 },
 "nbformat": 4,
 "nbformat_minor": 2
}
